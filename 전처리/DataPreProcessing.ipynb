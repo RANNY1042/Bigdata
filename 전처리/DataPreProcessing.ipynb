{
 "cells": [
  {
   "cell_type": "code",
   "execution_count": 1,
   "id": "11d265fd-b067-4ba9-a83e-918af396fb18",
   "metadata": {},
   "outputs": [],
   "source": [
    "import numpy as np\n",
    "import pandas as pd"
   ]
  },
  {
   "cell_type": "code",
   "execution_count": 2,
   "id": "b6f1e206-c3bb-4701-b89a-bee30b3febed",
   "metadata": {},
   "outputs": [],
   "source": [
    "df= pd.read_csv(\"https://raw.githubusercontent.com/Datamanim/pandas/main/lol.csv\")"
   ]
  },
  {
   "cell_type": "code",
   "execution_count": 3,
   "id": "7c255b96-2f7a-4c56-bc1f-486804d0c895",
   "metadata": {},
   "outputs": [
    {
     "data": {
      "text/plain": [
       "pandas.core.frame.DataFrame"
      ]
     },
     "execution_count": 3,
     "metadata": {},
     "output_type": "execute_result"
    }
   ],
   "source": [
    "type(df)"
   ]
  },
  {
   "cell_type": "code",
   "execution_count": 4,
   "id": "6bb37755-77f1-4606-832b-af124b062eef",
   "metadata": {},
   "outputs": [
    {
     "data": {
      "text/html": [
       "<div>\n",
       "<style scoped>\n",
       "    .dataframe tbody tr th:only-of-type {\n",
       "        vertical-align: middle;\n",
       "    }\n",
       "\n",
       "    .dataframe tbody tr th {\n",
       "        vertical-align: top;\n",
       "    }\n",
       "\n",
       "    .dataframe thead th {\n",
       "        text-align: right;\n",
       "    }\n",
       "</style>\n",
       "<table border=\"1\" class=\"dataframe\">\n",
       "  <thead>\n",
       "    <tr style=\"text-align: right;\">\n",
       "      <th></th>\n",
       "      <th>gameId\\tcreationTime\\tgameDuration\\tseasonId\\twinner\\tfirstBlood\\tfirstTower\\tfirstInhibitor\\tfirstBaron\\tfirstDragon\\tfirstRiftHerald\\tt1_champ1id\\tt1_champ1_sum1\\tt1_champ1_sum2\\tt1_champ2id\\tt1_champ2_sum1\\tt1_champ2_sum2\\tt1_champ3id\\tt1_champ3_sum1\\tt1_champ3_sum2\\tt1_champ4id\\tt1_champ4_sum1\\tt1_champ4_sum2\\tt1_champ5id\\tt1_champ5_sum1\\tt1_champ5_sum2\\tt1_towerKills\\tt1_inhibitorKills\\tt1_baronKills\\tt1_dragonKills\\tt1_riftHeraldKills\\tt1_ban1\\tt1_ban2\\tt1_ban3\\tt1_ban4\\tt1_ban5\\tt2_champ1id\\tt2_champ1_sum1\\tt2_champ1_sum2\\tt2_champ2id\\tt2_champ2_sum1\\tt2_champ2_sum2\\tt2_champ3id\\tt2_champ3_sum1\\tt2_champ3_sum2\\tt2_champ4id\\tt2_champ4_sum1\\tt2_champ4_sum2\\tt2_champ5id\\tt2_champ5_sum1\\tt2_champ5_sum2\\tt2_towerKills\\tt2_inhibitorKills\\tt2_baronKills\\tt2_dragonKills\\tt2_riftHeraldKills\\tt2_ban1\\tt2_ban2\\tt2_ban3\\tt2_ban4\\tt2_ban5</th>\n",
       "    </tr>\n",
       "  </thead>\n",
       "  <tbody>\n",
       "    <tr>\n",
       "      <th>0</th>\n",
       "      <td>3326086514\\t1504279457970\\t1949\\t9\\t1\\t2\\t1\\t1...</td>\n",
       "    </tr>\n",
       "    <tr>\n",
       "      <th>1</th>\n",
       "      <td>3229566029\\t1497848803862\\t1851\\t9\\t1\\t1\\t1\\t1...</td>\n",
       "    </tr>\n",
       "    <tr>\n",
       "      <th>2</th>\n",
       "      <td>3327363504\\t1504360103310\\t1493\\t9\\t1\\t2\\t1\\t1...</td>\n",
       "    </tr>\n",
       "    <tr>\n",
       "      <th>3</th>\n",
       "      <td>3326856598\\t1504348503996\\t1758\\t9\\t1\\t1\\t1\\t1...</td>\n",
       "    </tr>\n",
       "    <tr>\n",
       "      <th>4</th>\n",
       "      <td>3330080762\\t1504554410899\\t2094\\t9\\t1\\t2\\t1\\t1...</td>\n",
       "    </tr>\n",
       "    <tr>\n",
       "      <th>...</th>\n",
       "      <td>...</td>\n",
       "    </tr>\n",
       "    <tr>\n",
       "      <th>51485</th>\n",
       "      <td>3308904636\\t1503076540231\\t1944\\t9\\t2\\t1\\t2\\t2...</td>\n",
       "    </tr>\n",
       "    <tr>\n",
       "      <th>51486</th>\n",
       "      <td>3215685759\\t1496957179355\\t3304\\t9\\t2\\t1\\t1\\t2...</td>\n",
       "    </tr>\n",
       "    <tr>\n",
       "      <th>51487</th>\n",
       "      <td>3322765040\\t1504029863961\\t2156\\t9\\t2\\t2\\t2\\t2...</td>\n",
       "    </tr>\n",
       "    <tr>\n",
       "      <th>51488</th>\n",
       "      <td>3256675373\\t1499562036246\\t1475\\t9\\t2\\t2\\t2\\t2...</td>\n",
       "    </tr>\n",
       "    <tr>\n",
       "      <th>51489</th>\n",
       "      <td>3317333020\\t1503612754059\\t1445\\t9\\t1\\t1\\t1\\t1...</td>\n",
       "    </tr>\n",
       "  </tbody>\n",
       "</table>\n",
       "<p>51490 rows × 1 columns</p>\n",
       "</div>"
      ],
      "text/plain": [
       "      gameId\\tcreationTime\\tgameDuration\\tseasonId\\twinner\\tfirstBlood\\tfirstTower\\tfirstInhibitor\\tfirstBaron\\tfirstDragon\\tfirstRiftHerald\\tt1_champ1id\\tt1_champ1_sum1\\tt1_champ1_sum2\\tt1_champ2id\\tt1_champ2_sum1\\tt1_champ2_sum2\\tt1_champ3id\\tt1_champ3_sum1\\tt1_champ3_sum2\\tt1_champ4id\\tt1_champ4_sum1\\tt1_champ4_sum2\\tt1_champ5id\\tt1_champ5_sum1\\tt1_champ5_sum2\\tt1_towerKills\\tt1_inhibitorKills\\tt1_baronKills\\tt1_dragonKills\\tt1_riftHeraldKills\\tt1_ban1\\tt1_ban2\\tt1_ban3\\tt1_ban4\\tt1_ban5\\tt2_champ1id\\tt2_champ1_sum1\\tt2_champ1_sum2\\tt2_champ2id\\tt2_champ2_sum1\\tt2_champ2_sum2\\tt2_champ3id\\tt2_champ3_sum1\\tt2_champ3_sum2\\tt2_champ4id\\tt2_champ4_sum1\\tt2_champ4_sum2\\tt2_champ5id\\tt2_champ5_sum1\\tt2_champ5_sum2\\tt2_towerKills\\tt2_inhibitorKills\\tt2_baronKills\\tt2_dragonKills\\tt2_riftHeraldKills\\tt2_ban1\\tt2_ban2\\tt2_ban3\\tt2_ban4\\tt2_ban5\n",
       "0      3326086514\\t1504279457970\\t1949\\t9\\t1\\t2\\t1\\t1...                                                                                                                                                                                                                                                                                                                                                                                                                                                                                                                                                                                                                                                                                                                                                                                                                          \n",
       "1      3229566029\\t1497848803862\\t1851\\t9\\t1\\t1\\t1\\t1...                                                                                                                                                                                                                                                                                                                                                                                                                                                                                                                                                                                                                                                                                                                                                                                                                          \n",
       "2      3327363504\\t1504360103310\\t1493\\t9\\t1\\t2\\t1\\t1...                                                                                                                                                                                                                                                                                                                                                                                                                                                                                                                                                                                                                                                                                                                                                                                                                          \n",
       "3      3326856598\\t1504348503996\\t1758\\t9\\t1\\t1\\t1\\t1...                                                                                                                                                                                                                                                                                                                                                                                                                                                                                                                                                                                                                                                                                                                                                                                                                          \n",
       "4      3330080762\\t1504554410899\\t2094\\t9\\t1\\t2\\t1\\t1...                                                                                                                                                                                                                                                                                                                                                                                                                                                                                                                                                                                                                                                                                                                                                                                                                          \n",
       "...                                                  ...                                                                                                                                                                                                                                                                                                                                                                                                                                                                                                                                                                                                                                                                                                                                                                                                                          \n",
       "51485  3308904636\\t1503076540231\\t1944\\t9\\t2\\t1\\t2\\t2...                                                                                                                                                                                                                                                                                                                                                                                                                                                                                                                                                                                                                                                                                                                                                                                                                          \n",
       "51486  3215685759\\t1496957179355\\t3304\\t9\\t2\\t1\\t1\\t2...                                                                                                                                                                                                                                                                                                                                                                                                                                                                                                                                                                                                                                                                                                                                                                                                                          \n",
       "51487  3322765040\\t1504029863961\\t2156\\t9\\t2\\t2\\t2\\t2...                                                                                                                                                                                                                                                                                                                                                                                                                                                                                                                                                                                                                                                                                                                                                                                                                          \n",
       "51488  3256675373\\t1499562036246\\t1475\\t9\\t2\\t2\\t2\\t2...                                                                                                                                                                                                                                                                                                                                                                                                                                                                                                                                                                                                                                                                                                                                                                                                                          \n",
       "51489  3317333020\\t1503612754059\\t1445\\t9\\t1\\t1\\t1\\t1...                                                                                                                                                                                                                                                                                                                                                                                                                                                                                                                                                                                                                                                                                                                                                                                                                          \n",
       "\n",
       "[51490 rows x 1 columns]"
      ]
     },
     "execution_count": 4,
     "metadata": {},
     "output_type": "execute_result"
    }
   ],
   "source": [
    "df"
   ]
  },
  {
   "cell_type": "code",
   "execution_count": 6,
   "id": "6c29018f-357c-45e4-bc4d-80e6bb24f352",
   "metadata": {},
   "outputs": [
    {
     "data": {
      "text/html": [
       "<div>\n",
       "<style scoped>\n",
       "    .dataframe tbody tr th:only-of-type {\n",
       "        vertical-align: middle;\n",
       "    }\n",
       "\n",
       "    .dataframe tbody tr th {\n",
       "        vertical-align: top;\n",
       "    }\n",
       "\n",
       "    .dataframe thead th {\n",
       "        text-align: right;\n",
       "    }\n",
       "</style>\n",
       "<table border=\"1\" class=\"dataframe\">\n",
       "  <thead>\n",
       "    <tr style=\"text-align: right;\">\n",
       "      <th></th>\n",
       "      <th>gameId\\tcreationTime\\tgameDuration\\tseasonId\\twinner\\tfirstBlood\\tfirstTower\\tfirstInhibitor\\tfirstBaron\\tfirstDragon\\tfirstRiftHerald\\tt1_champ1id\\tt1_champ1_sum1\\tt1_champ1_sum2\\tt1_champ2id\\tt1_champ2_sum1\\tt1_champ2_sum2\\tt1_champ3id\\tt1_champ3_sum1\\tt1_champ3_sum2\\tt1_champ4id\\tt1_champ4_sum1\\tt1_champ4_sum2\\tt1_champ5id\\tt1_champ5_sum1\\tt1_champ5_sum2\\tt1_towerKills\\tt1_inhibitorKills\\tt1_baronKills\\tt1_dragonKills\\tt1_riftHeraldKills\\tt1_ban1\\tt1_ban2\\tt1_ban3\\tt1_ban4\\tt1_ban5\\tt2_champ1id\\tt2_champ1_sum1\\tt2_champ1_sum2\\tt2_champ2id\\tt2_champ2_sum1\\tt2_champ2_sum2\\tt2_champ3id\\tt2_champ3_sum1\\tt2_champ3_sum2\\tt2_champ4id\\tt2_champ4_sum1\\tt2_champ4_sum2\\tt2_champ5id\\tt2_champ5_sum1\\tt2_champ5_sum2\\tt2_towerKills\\tt2_inhibitorKills\\tt2_baronKills\\tt2_dragonKills\\tt2_riftHeraldKills\\tt2_ban1\\tt2_ban2\\tt2_ban3\\tt2_ban4\\tt2_ban5</th>\n",
       "    </tr>\n",
       "  </thead>\n",
       "  <tbody>\n",
       "    <tr>\n",
       "      <th>0</th>\n",
       "      <td>3326086514\\t1504279457970\\t1949\\t9\\t1\\t2\\t1\\t1...</td>\n",
       "    </tr>\n",
       "    <tr>\n",
       "      <th>1</th>\n",
       "      <td>3229566029\\t1497848803862\\t1851\\t9\\t1\\t1\\t1\\t1...</td>\n",
       "    </tr>\n",
       "    <tr>\n",
       "      <th>2</th>\n",
       "      <td>3327363504\\t1504360103310\\t1493\\t9\\t1\\t2\\t1\\t1...</td>\n",
       "    </tr>\n",
       "    <tr>\n",
       "      <th>3</th>\n",
       "      <td>3326856598\\t1504348503996\\t1758\\t9\\t1\\t1\\t1\\t1...</td>\n",
       "    </tr>\n",
       "    <tr>\n",
       "      <th>4</th>\n",
       "      <td>3330080762\\t1504554410899\\t2094\\t9\\t1\\t2\\t1\\t1...</td>\n",
       "    </tr>\n",
       "  </tbody>\n",
       "</table>\n",
       "</div>"
      ],
      "text/plain": [
       "  gameId\\tcreationTime\\tgameDuration\\tseasonId\\twinner\\tfirstBlood\\tfirstTower\\tfirstInhibitor\\tfirstBaron\\tfirstDragon\\tfirstRiftHerald\\tt1_champ1id\\tt1_champ1_sum1\\tt1_champ1_sum2\\tt1_champ2id\\tt1_champ2_sum1\\tt1_champ2_sum2\\tt1_champ3id\\tt1_champ3_sum1\\tt1_champ3_sum2\\tt1_champ4id\\tt1_champ4_sum1\\tt1_champ4_sum2\\tt1_champ5id\\tt1_champ5_sum1\\tt1_champ5_sum2\\tt1_towerKills\\tt1_inhibitorKills\\tt1_baronKills\\tt1_dragonKills\\tt1_riftHeraldKills\\tt1_ban1\\tt1_ban2\\tt1_ban3\\tt1_ban4\\tt1_ban5\\tt2_champ1id\\tt2_champ1_sum1\\tt2_champ1_sum2\\tt2_champ2id\\tt2_champ2_sum1\\tt2_champ2_sum2\\tt2_champ3id\\tt2_champ3_sum1\\tt2_champ3_sum2\\tt2_champ4id\\tt2_champ4_sum1\\tt2_champ4_sum2\\tt2_champ5id\\tt2_champ5_sum1\\tt2_champ5_sum2\\tt2_towerKills\\tt2_inhibitorKills\\tt2_baronKills\\tt2_dragonKills\\tt2_riftHeraldKills\\tt2_ban1\\tt2_ban2\\tt2_ban3\\tt2_ban4\\tt2_ban5\n",
       "0  3326086514\\t1504279457970\\t1949\\t9\\t1\\t2\\t1\\t1...                                                                                                                                                                                                                                                                                                                                                                                                                                                                                                                                                                                                                                                                                                                                                                                                                          \n",
       "1  3229566029\\t1497848803862\\t1851\\t9\\t1\\t1\\t1\\t1...                                                                                                                                                                                                                                                                                                                                                                                                                                                                                                                                                                                                                                                                                                                                                                                                                          \n",
       "2  3327363504\\t1504360103310\\t1493\\t9\\t1\\t2\\t1\\t1...                                                                                                                                                                                                                                                                                                                                                                                                                                                                                                                                                                                                                                                                                                                                                                                                                          \n",
       "3  3326856598\\t1504348503996\\t1758\\t9\\t1\\t1\\t1\\t1...                                                                                                                                                                                                                                                                                                                                                                                                                                                                                                                                                                                                                                                                                                                                                                                                                          \n",
       "4  3330080762\\t1504554410899\\t2094\\t9\\t1\\t2\\t1\\t1...                                                                                                                                                                                                                                                                                                                                                                                                                                                                                                                                                                                                                                                                                                                                                                                                                          "
      ]
     },
     "execution_count": 6,
     "metadata": {},
     "output_type": "execute_result"
    }
   ],
   "source": [
    "five= df.head(5)\n",
    "five"
   ]
  },
  {
   "cell_type": "code",
   "execution_count": null,
   "id": "4a3ccf87-2813-4cf5-8964-0dfd909062f6",
   "metadata": {},
   "outputs": [],
   "source": []
  }
 ],
 "metadata": {
  "kernelspec": {
   "display_name": "Python 3 (ipykernel)",
   "language": "python",
   "name": "python3"
  },
  "language_info": {
   "codemirror_mode": {
    "name": "ipython",
    "version": 3
   },
   "file_extension": ".py",
   "mimetype": "text/x-python",
   "name": "python",
   "nbconvert_exporter": "python",
   "pygments_lexer": "ipython3",
   "version": "3.9.13"
  }
 },
 "nbformat": 4,
 "nbformat_minor": 5
}
